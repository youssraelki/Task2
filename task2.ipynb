{
 "cells": [
  {
   "cell_type": "code",
   "execution_count": 4,
   "id": "65634f00-b574-4d4e-a555-bc3b864260a9",
   "metadata": {},
   "outputs": [
    {
     "name": "stdout",
     "output_type": "stream",
     "text": [
      "Missing values:\n",
      " PassengerId      0\n",
      "Survived         0\n",
      "Pclass           0\n",
      "Name             0\n",
      "Sex              0\n",
      "Age            177\n",
      "SibSp            0\n",
      "Parch            0\n",
      "Ticket           0\n",
      "Fare             0\n",
      "Cabin          687\n",
      "Embarked         2\n",
      "dtype: int64\n",
      "Mean:\n",
      " PassengerId    446.000000\n",
      "Survived         0.383838\n",
      "Pclass           2.308642\n",
      "Age             29.699118\n",
      "SibSp            0.523008\n",
      "Parch            0.381594\n",
      "Fare            32.204208\n",
      "dtype: float64\n",
      "Median:\n",
      " [446.       0.       3.          nan   0.       0.      14.4542]\n",
      "Mode:\n",
      " PassengerId     1.00\n",
      "Survived        0.00\n",
      "Pclass          3.00\n",
      "Age            24.00\n",
      "SibSp           0.00\n",
      "Parch           0.00\n",
      "Fare            8.05\n",
      "Name: 0, dtype: float64\n",
      "Standard deviation:\n",
      " PassengerId    257.209383\n",
      "Survived         0.486319\n",
      "Pclass           0.835602\n",
      "Age             14.516321\n",
      "SibSp            1.102124\n",
      "Parch            0.805605\n",
      "Fare            49.665534\n",
      "dtype: float64\n"
     ]
    }
   ],
   "source": [
    "import numpy as np\n",
    "\n",
    "import pandas as pd \n",
    "df=pd.read_csv('C:/Users/user/Downloads/train.csv')\n",
    "\n",
    "#Calculate missing vamues\n",
    "missing_values=df.isnull().sum()\n",
    "print(\"Missing values:\\n\", missing_values)\n",
    "\n",
    "#Select only numeric columns\n",
    "numeric_df=df.select_dtypes(include=np.number)\n",
    "\n",
    "#Calculate mean along columns\n",
    "mean=np.mean(numeric_df,axis=0)\n",
    "\n",
    "#Calculate median along columns\n",
    "median=np.median(numeric_df,axis=0)\n",
    "\n",
    "#Calculate mode along columns\n",
    "mode=numeric_df.mode().iloc[0]\n",
    "\n",
    "#Calculate standard deviation along columns\n",
    "stand_dev=np.std(numeric_df,axis=0)\n",
    "\n",
    "print(\"Mean:\\n\", mean)\n",
    "print(\"Median:\\n\", median)\n",
    "print(\"Mode:\\n\", mode)\n",
    "print(\"Standard deviation:\\n\", stand_dev)"
   ]
  },
  {
   "cell_type": "code",
   "execution_count": null,
   "id": "fc290670-607f-427e-8644-5520ad5607db",
   "metadata": {},
   "outputs": [],
   "source": []
  }
 ],
 "metadata": {
  "kernelspec": {
   "display_name": "Python 3 (ipykernel)",
   "language": "python",
   "name": "python3"
  },
  "language_info": {
   "codemirror_mode": {
    "name": "ipython",
    "version": 3
   },
   "file_extension": ".py",
   "mimetype": "text/x-python",
   "name": "python",
   "nbconvert_exporter": "python",
   "pygments_lexer": "ipython3",
   "version": "3.12.1"
  }
 },
 "nbformat": 4,
 "nbformat_minor": 5
}
